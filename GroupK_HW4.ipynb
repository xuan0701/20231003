{
  "nbformat": 4,
  "nbformat_minor": 0,
  "metadata": {
    "colab": {
      "provenance": []
    },
    "kernelspec": {
      "name": "python3",
      "display_name": "Python 3"
    },
    "language_info": {
      "name": "python"
    }
  },
  "cells": [
    {
      "cell_type": "code",
      "execution_count": null,
      "metadata": {
        "colab": {
          "base_uri": "https://localhost:8080/"
        },
        "id": "Vwo7RjSbPr89",
        "outputId": "e80eef82-2578-49a2-8268-a4f133940110"
      },
      "outputs": [
        {
          "output_type": "stream",
          "name": "stdout",
          "text": [
            "10 50 20 30 100\n",
            "33.333333333333336\n"
          ]
        }
      ],
      "source": [
        "#HW4第一題\n",
        "a=input()\n",
        "a=a.split(' ')\n",
        "a=list(map(int,a))\n",
        "a.remove(max(a))\n",
        "a.remove(min(a))\n",
        "print(sum(a)/len(a))\n"
      ]
    },
    {
      "cell_type": "code",
      "source": [
        "#HW4第二題\n",
        "a=int(input())\n",
        "b=int(input())\n",
        "k=str(input())\n",
        "if k==\"+\":\n",
        "  print(a+b)\n",
        "if k==\"-\":\n",
        "  print(a-b)\n",
        "if k==\"*\":\n",
        "  print(a*b)\n",
        "if k==\"/\":\n",
        "  print(a/b)\n"
      ],
      "metadata": {
        "id": "R-qQyEaiwVwb",
        "colab": {
          "base_uri": "https://localhost:8080/"
        },
        "outputId": "58428e55-2bac-403a-8407-089a132b354b"
      },
      "execution_count": null,
      "outputs": [
        {
          "output_type": "stream",
          "name": "stdout",
          "text": [
            "3\n",
            "5\n",
            "*\n",
            "15\n"
          ]
        }
      ]
    },
    {
      "cell_type": "code",
      "source": [
        "#HW4第三題\n",
        "y=int(input(\"請輸入年分\"))\n",
        "if y > 1582:\n",
        "  if y%400==0:\n",
        "    print(\"是閏年\")\n",
        "  elif y%4==0 and y%100!=0:\n",
        "    print(\"是閏年\")\n",
        "  else:\n",
        "    print(\"是平年\")\n",
        "elif y%4==0:\n",
        "  print(\"是閏年\")\n",
        "else:\n",
        "  print(\"是平年\")"
      ],
      "metadata": {
        "colab": {
          "base_uri": "https://localhost:8080/"
        },
        "id": "zh2lH97rUVJE",
        "outputId": "b0e8e320-1811-40a5-913f-1c8590709525"
      },
      "execution_count": null,
      "outputs": [
        {
          "output_type": "stream",
          "name": "stdout",
          "text": [
            "請輸入年分1582\n",
            "是平年\n"
          ]
        }
      ]
    }
  ]
}