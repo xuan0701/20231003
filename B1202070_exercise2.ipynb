{
  "nbformat": 4,
  "nbformat_minor": 0,
  "metadata": {
    "colab": {
      "provenance": []
    },
    "kernelspec": {
      "name": "python3",
      "display_name": "Python 3"
    },
    "language_info": {
      "name": "python"
    }
  },
  "cells": [
    {
      "cell_type": "code",
      "execution_count": 6,
      "metadata": {
        "colab": {
          "base_uri": "https://localhost:8080/"
        },
        "id": "a53NMMLbcs_o",
        "outputId": "914c6c7f-34bd-41b0-b147-4b543d4d019e"
      },
      "outputs": [
        {
          "output_type": "stream",
          "name": "stdout",
          "text": [
            "A\n",
            "['K', 'H', 'U']\n"
          ]
        }
      ],
      "source": [
        "a='C,B,A'\n",
        "b=['F','G','H']\n",
        "a=a.split(',')\n",
        "c=a+b\n",
        "c[0]='K'\n",
        "print(c.pop(2))\n",
        "del c[1:4]\n",
        "c.append('U')\n",
        "print(c)"
      ]
    },
    {
      "cell_type": "code",
      "source": [
        "h, w = float(input(\"請輸入身高(公尺)\")), float(input(\"請輸入體重(公斤)\"))\n",
        "h *= h\n",
        "bmi = w/h\n",
        "print('BMI:',bmi)\n",
        "\n",
        "if bmi<18.5:\n",
        "  print('體位:過輕')\n",
        "elif bmi<24:\n",
        "  print('體位:適中')\n",
        "elif bmi<27:\n",
        "  print('體位:過重')\n",
        "else:\n",
        "  print('體位:肥胖')"
      ],
      "metadata": {
        "colab": {
          "base_uri": "https://localhost:8080/"
        },
        "id": "hRtl-TmBl0Ry",
        "outputId": "d0c3cd88-44b5-456e-d023-a3359a4a6c5d"
      },
      "execution_count": 10,
      "outputs": [
        {
          "output_type": "stream",
          "name": "stdout",
          "text": [
            "請輸入身高(公尺)1.65\n",
            "請輸入體重(公斤)56\n",
            "BMI: 20.569329660238754\n",
            "體位:適中\n"
          ]
        }
      ]
    }
  ]
}